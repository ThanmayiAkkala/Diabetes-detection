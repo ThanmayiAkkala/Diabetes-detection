{
  "nbformat": 4,
  "nbformat_minor": 0,
  "metadata": {
    "colab": {
      "name": "diabetes.ipynb",
      "provenance": [],
      "collapsed_sections": []
    },
    "kernelspec": {
      "name": "python3",
      "display_name": "Python 3"
    },
    "language_info": {
      "name": "python"
    }
  },
  "cells": [
    {
      "cell_type": "markdown",
      "metadata": {
        "id": "xcfcURL_tPJE"
      },
      "source": [
        "Importing Libraries"
      ]
    },
    {
      "cell_type": "code",
      "execution_count": null,
      "metadata": {
        "id": "7CkGQZVvtPJQ"
      },
      "outputs": [],
      "source": [
        "import numpy as np\n",
        "import seaborn as sns\n",
        "import matplotlib.pyplot as plt\n",
        "\n",
        "from sklearn.tree import DecisionTreeClassifier\n",
        "from sklearn.ensemble import RandomForestClassifier\n",
        "from sklearn.neighbors import KNeighborsClassifier\n",
        "from xgboost import XGBClassifier\n",
        "from sklearn.ensemble import AdaBoostClassifier\n",
        "from sklearn.ensemble import StackingClassifier\n",
        "from sklearn.ensemble import VotingClassifier\n",
        "from sklearn.metrics import accuracy_score, roc_curve\n",
        "from sklearn.metrics import confusion_matrix\n",
        "\n",
        "import warnings\n",
        "warnings.filterwarnings(\"ignore\")"
      ]
    },
    {
      "cell_type": "code",
      "execution_count": null,
      "metadata": {
        "id": "VYH7Qm61db0L"
      },
      "outputs": [],
      "source": [
        "import pandas as pd\n",
        "dataset = pd.read_csv(\"diabetes.csv\")"
      ]
    },
    {
      "cell_type": "code",
      "source": [
        "dataset"
      ],
      "metadata": {
        "colab": {
          "base_uri": "https://localhost:8080/",
          "height": 423
        },
        "id": "Amrfeu4Lh6Lb",
        "outputId": "3f199a59-b77b-418f-f9dd-5093790fa624"
      },
      "execution_count": null,
      "outputs": [
        {
          "output_type": "execute_result",
          "data": {
            "text/plain": [
              "     Pregnancies  Glucose  BloodPressure  SkinThickness  Insulin   BMI  \\\n",
              "0              6      148             72             35        0  33.6   \n",
              "1              1       85             66             29        0  26.6   \n",
              "2              8      183             64              0        0  23.3   \n",
              "3              1       89             66             23       94  28.1   \n",
              "4              0      137             40             35      168  43.1   \n",
              "..           ...      ...            ...            ...      ...   ...   \n",
              "763           10      101             76             48      180  32.9   \n",
              "764            2      122             70             27        0  36.8   \n",
              "765            5      121             72             23      112  26.2   \n",
              "766            1      126             60              0        0  30.1   \n",
              "767            1       93             70             31        0  30.4   \n",
              "\n",
              "     DiabetesPedigreeFunction  Age  Outcome  \n",
              "0                       0.627   50        1  \n",
              "1                       0.351   31        0  \n",
              "2                       0.672   32        1  \n",
              "3                       0.167   21        0  \n",
              "4                       2.288   33        1  \n",
              "..                        ...  ...      ...  \n",
              "763                     0.171   63        0  \n",
              "764                     0.340   27        0  \n",
              "765                     0.245   30        0  \n",
              "766                     0.349   47        1  \n",
              "767                     0.315   23        0  \n",
              "\n",
              "[768 rows x 9 columns]"
            ],
            "text/html": [
              "\n",
              "  <div id=\"df-bdc05a56-9dab-4262-8204-5af7f9e16ff0\">\n",
              "    <div class=\"colab-df-container\">\n",
              "      <div>\n",
              "<style scoped>\n",
              "    .dataframe tbody tr th:only-of-type {\n",
              "        vertical-align: middle;\n",
              "    }\n",
              "\n",
              "    .dataframe tbody tr th {\n",
              "        vertical-align: top;\n",
              "    }\n",
              "\n",
              "    .dataframe thead th {\n",
              "        text-align: right;\n",
              "    }\n",
              "</style>\n",
              "<table border=\"1\" class=\"dataframe\">\n",
              "  <thead>\n",
              "    <tr style=\"text-align: right;\">\n",
              "      <th></th>\n",
              "      <th>Pregnancies</th>\n",
              "      <th>Glucose</th>\n",
              "      <th>BloodPressure</th>\n",
              "      <th>SkinThickness</th>\n",
              "      <th>Insulin</th>\n",
              "      <th>BMI</th>\n",
              "      <th>DiabetesPedigreeFunction</th>\n",
              "      <th>Age</th>\n",
              "      <th>Outcome</th>\n",
              "    </tr>\n",
              "  </thead>\n",
              "  <tbody>\n",
              "    <tr>\n",
              "      <th>0</th>\n",
              "      <td>6</td>\n",
              "      <td>148</td>\n",
              "      <td>72</td>\n",
              "      <td>35</td>\n",
              "      <td>0</td>\n",
              "      <td>33.6</td>\n",
              "      <td>0.627</td>\n",
              "      <td>50</td>\n",
              "      <td>1</td>\n",
              "    </tr>\n",
              "    <tr>\n",
              "      <th>1</th>\n",
              "      <td>1</td>\n",
              "      <td>85</td>\n",
              "      <td>66</td>\n",
              "      <td>29</td>\n",
              "      <td>0</td>\n",
              "      <td>26.6</td>\n",
              "      <td>0.351</td>\n",
              "      <td>31</td>\n",
              "      <td>0</td>\n",
              "    </tr>\n",
              "    <tr>\n",
              "      <th>2</th>\n",
              "      <td>8</td>\n",
              "      <td>183</td>\n",
              "      <td>64</td>\n",
              "      <td>0</td>\n",
              "      <td>0</td>\n",
              "      <td>23.3</td>\n",
              "      <td>0.672</td>\n",
              "      <td>32</td>\n",
              "      <td>1</td>\n",
              "    </tr>\n",
              "    <tr>\n",
              "      <th>3</th>\n",
              "      <td>1</td>\n",
              "      <td>89</td>\n",
              "      <td>66</td>\n",
              "      <td>23</td>\n",
              "      <td>94</td>\n",
              "      <td>28.1</td>\n",
              "      <td>0.167</td>\n",
              "      <td>21</td>\n",
              "      <td>0</td>\n",
              "    </tr>\n",
              "    <tr>\n",
              "      <th>4</th>\n",
              "      <td>0</td>\n",
              "      <td>137</td>\n",
              "      <td>40</td>\n",
              "      <td>35</td>\n",
              "      <td>168</td>\n",
              "      <td>43.1</td>\n",
              "      <td>2.288</td>\n",
              "      <td>33</td>\n",
              "      <td>1</td>\n",
              "    </tr>\n",
              "    <tr>\n",
              "      <th>...</th>\n",
              "      <td>...</td>\n",
              "      <td>...</td>\n",
              "      <td>...</td>\n",
              "      <td>...</td>\n",
              "      <td>...</td>\n",
              "      <td>...</td>\n",
              "      <td>...</td>\n",
              "      <td>...</td>\n",
              "      <td>...</td>\n",
              "    </tr>\n",
              "    <tr>\n",
              "      <th>763</th>\n",
              "      <td>10</td>\n",
              "      <td>101</td>\n",
              "      <td>76</td>\n",
              "      <td>48</td>\n",
              "      <td>180</td>\n",
              "      <td>32.9</td>\n",
              "      <td>0.171</td>\n",
              "      <td>63</td>\n",
              "      <td>0</td>\n",
              "    </tr>\n",
              "    <tr>\n",
              "      <th>764</th>\n",
              "      <td>2</td>\n",
              "      <td>122</td>\n",
              "      <td>70</td>\n",
              "      <td>27</td>\n",
              "      <td>0</td>\n",
              "      <td>36.8</td>\n",
              "      <td>0.340</td>\n",
              "      <td>27</td>\n",
              "      <td>0</td>\n",
              "    </tr>\n",
              "    <tr>\n",
              "      <th>765</th>\n",
              "      <td>5</td>\n",
              "      <td>121</td>\n",
              "      <td>72</td>\n",
              "      <td>23</td>\n",
              "      <td>112</td>\n",
              "      <td>26.2</td>\n",
              "      <td>0.245</td>\n",
              "      <td>30</td>\n",
              "      <td>0</td>\n",
              "    </tr>\n",
              "    <tr>\n",
              "      <th>766</th>\n",
              "      <td>1</td>\n",
              "      <td>126</td>\n",
              "      <td>60</td>\n",
              "      <td>0</td>\n",
              "      <td>0</td>\n",
              "      <td>30.1</td>\n",
              "      <td>0.349</td>\n",
              "      <td>47</td>\n",
              "      <td>1</td>\n",
              "    </tr>\n",
              "    <tr>\n",
              "      <th>767</th>\n",
              "      <td>1</td>\n",
              "      <td>93</td>\n",
              "      <td>70</td>\n",
              "      <td>31</td>\n",
              "      <td>0</td>\n",
              "      <td>30.4</td>\n",
              "      <td>0.315</td>\n",
              "      <td>23</td>\n",
              "      <td>0</td>\n",
              "    </tr>\n",
              "  </tbody>\n",
              "</table>\n",
              "<p>768 rows × 9 columns</p>\n",
              "</div>\n",
              "      <button class=\"colab-df-convert\" onclick=\"convertToInteractive('df-bdc05a56-9dab-4262-8204-5af7f9e16ff0')\"\n",
              "              title=\"Convert this dataframe to an interactive table.\"\n",
              "              style=\"display:none;\">\n",
              "        \n",
              "  <svg xmlns=\"http://www.w3.org/2000/svg\" height=\"24px\"viewBox=\"0 0 24 24\"\n",
              "       width=\"24px\">\n",
              "    <path d=\"M0 0h24v24H0V0z\" fill=\"none\"/>\n",
              "    <path d=\"M18.56 5.44l.94 2.06.94-2.06 2.06-.94-2.06-.94-.94-2.06-.94 2.06-2.06.94zm-11 1L8.5 8.5l.94-2.06 2.06-.94-2.06-.94L8.5 2.5l-.94 2.06-2.06.94zm10 10l.94 2.06.94-2.06 2.06-.94-2.06-.94-.94-2.06-.94 2.06-2.06.94z\"/><path d=\"M17.41 7.96l-1.37-1.37c-.4-.4-.92-.59-1.43-.59-.52 0-1.04.2-1.43.59L10.3 9.45l-7.72 7.72c-.78.78-.78 2.05 0 2.83L4 21.41c.39.39.9.59 1.41.59.51 0 1.02-.2 1.41-.59l7.78-7.78 2.81-2.81c.8-.78.8-2.07 0-2.86zM5.41 20L4 18.59l7.72-7.72 1.47 1.35L5.41 20z\"/>\n",
              "  </svg>\n",
              "      </button>\n",
              "      \n",
              "  <style>\n",
              "    .colab-df-container {\n",
              "      display:flex;\n",
              "      flex-wrap:wrap;\n",
              "      gap: 12px;\n",
              "    }\n",
              "\n",
              "    .colab-df-convert {\n",
              "      background-color: #E8F0FE;\n",
              "      border: none;\n",
              "      border-radius: 50%;\n",
              "      cursor: pointer;\n",
              "      display: none;\n",
              "      fill: #1967D2;\n",
              "      height: 32px;\n",
              "      padding: 0 0 0 0;\n",
              "      width: 32px;\n",
              "    }\n",
              "\n",
              "    .colab-df-convert:hover {\n",
              "      background-color: #E2EBFA;\n",
              "      box-shadow: 0px 1px 2px rgba(60, 64, 67, 0.3), 0px 1px 3px 1px rgba(60, 64, 67, 0.15);\n",
              "      fill: #174EA6;\n",
              "    }\n",
              "\n",
              "    [theme=dark] .colab-df-convert {\n",
              "      background-color: #3B4455;\n",
              "      fill: #D2E3FC;\n",
              "    }\n",
              "\n",
              "    [theme=dark] .colab-df-convert:hover {\n",
              "      background-color: #434B5C;\n",
              "      box-shadow: 0px 1px 3px 1px rgba(0, 0, 0, 0.15);\n",
              "      filter: drop-shadow(0px 1px 2px rgba(0, 0, 0, 0.3));\n",
              "      fill: #FFFFFF;\n",
              "    }\n",
              "  </style>\n",
              "\n",
              "      <script>\n",
              "        const buttonEl =\n",
              "          document.querySelector('#df-bdc05a56-9dab-4262-8204-5af7f9e16ff0 button.colab-df-convert');\n",
              "        buttonEl.style.display =\n",
              "          google.colab.kernel.accessAllowed ? 'block' : 'none';\n",
              "\n",
              "        async function convertToInteractive(key) {\n",
              "          const element = document.querySelector('#df-bdc05a56-9dab-4262-8204-5af7f9e16ff0');\n",
              "          const dataTable =\n",
              "            await google.colab.kernel.invokeFunction('convertToInteractive',\n",
              "                                                     [key], {});\n",
              "          if (!dataTable) return;\n",
              "\n",
              "          const docLinkHtml = 'Like what you see? Visit the ' +\n",
              "            '<a target=\"_blank\" href=https://colab.research.google.com/notebooks/data_table.ipynb>data table notebook</a>'\n",
              "            + ' to learn more about interactive tables.';\n",
              "          element.innerHTML = '';\n",
              "          dataTable['output_type'] = 'display_data';\n",
              "          await google.colab.output.renderOutput(dataTable, element);\n",
              "          const docLink = document.createElement('div');\n",
              "          docLink.innerHTML = docLinkHtml;\n",
              "          element.appendChild(docLink);\n",
              "        }\n",
              "      </script>\n",
              "    </div>\n",
              "  </div>\n",
              "  "
            ]
          },
          "metadata": {},
          "execution_count": 3
        }
      ]
    },
    {
      "cell_type": "code",
      "source": [
        "def evaluate(model, X_train, X_test, y_train, y_test):\n",
        "    y_test_pred = model.predict(X_test)\n",
        "    y_train_pred = model.predict(X_train)\n",
        "\n",
        "    print(\"TRAINIG RESULTS: \\n===============================\")\n",
        "    clf_report = pd.DataFrame(classification_report(y_train, y_train_pred, output_dict=True))\n",
        "    print(f\"CONFUSION MATRIX:\\n{confusion_matrix(y_train, y_train_pred)}\")\n",
        "    print(f\"ACCURACY SCORE:\\n{accuracy_score(y_train, y_train_pred):.4f}\")\n",
        "    print(f\"CLASSIFICATION REPORT:\\n{clf_report}\")\n",
        "\n",
        "    print(\"TESTING RESULTS: \\n===============================\")\n",
        "    clf_report = pd.DataFrame(classification_report(y_test, y_test_pred, output_dict=True))\n",
        "    print(f\"CONFUSION MATRIX:\\n{confusion_matrix(y_test, y_test_pred)}\")\n",
        "    print(f\"ACCURACY SCORE:\\n{accuracy_score(y_test, y_test_pred):.4f}\")\n",
        "    print(f\"CLASSIFICATION REPORT:\\n{clf_report}\")"
      ],
      "metadata": {
        "id": "mH9ZZV_YaVSe"
      },
      "execution_count": null,
      "outputs": []
    },
    {
      "cell_type": "code",
      "source": [
        "import pandas as pd\n",
        "# dataset = pd.read_csv(\"diabetes.csv\")\n",
        "X = dataset.iloc[:,:-1]\n",
        "y = dataset.iloc[:, -1]\n",
        "\n",
        "from sklearn.model_selection import train_test_split\n",
        "X_train,X_test,y_train,y_test = train_test_split(X,y,test_size = 0.022,random_state = 0)\n",
        "\n",
        "from sklearn.metrics import accuracy_score\n",
        "from sklearn.discriminant_analysis import LinearDiscriminantAnalysis\n",
        "lr = RandomForestClassifier()\n",
        "lr.fit(X_train, y_train)\n",
        "y_pred = lr.predict(X_test)\n",
        "print(accuracy_score(y_test, y_pred))\n",
        "\n",
        "# from sklearn.ensemble import BaggingClassifier\n",
        "# from sklearn.tree import DecisionTreeClassifier\n",
        "\n",
        "# tree = DecisionTreeClassifier()\n",
        "# bagging_clf = BaggingClassifier(base_estimator=tree, n_estimators=1500, random_state=42)\n",
        "# bagging_clf.fit(X_train, y_train)\n",
        "\n",
        "# y_train_pred = bagging_clf.predict(X_train)\n",
        "# evaluate(bagging_clf, X_train, X_test, y_train, y_test)"
      ],
      "metadata": {
        "colab": {
          "base_uri": "https://localhost:8080/"
        },
        "id": "QZctOCXxO00X",
        "outputId": "bb8d6878-d6d3-4d46-da9b-aafbfbc2a29f"
      },
      "execution_count": null,
      "outputs": [
        {
          "output_type": "stream",
          "name": "stdout",
          "text": [
            "1.0\n"
          ]
        }
      ]
    },
    {
      "cell_type": "markdown",
      "source": [
        "preprocessing"
      ],
      "metadata": {
        "id": "z_zuRlFSeWNc"
      }
    },
    {
      "cell_type": "code",
      "source": [
        "from sklearn.preprocessing import LabelEncoder\n",
        "\n",
        "for i in dataset.columns:\n",
        "        labelencoder_X=LabelEncoder()\n",
        "        dataset[i]=labelencoder_X.fit_transform(dataset[i])"
      ],
      "metadata": {
        "id": "DxXi5v5ReKes"
      },
      "execution_count": null,
      "outputs": []
    },
    {
      "cell_type": "code",
      "source": [
        "dataset"
      ],
      "metadata": {
        "colab": {
          "base_uri": "https://localhost:8080/",
          "height": 424
        },
        "id": "xchVgOBeiZ06",
        "outputId": "cc9d80ba-5381-4b62-a1ab-d02a8eb85386"
      },
      "execution_count": null,
      "outputs": [
        {
          "output_type": "execute_result",
          "data": {
            "text/plain": [
              "     Pregnancies  Glucose  BloodPressure  SkinThickness  Insulin  BMI  \\\n",
              "0              6       86             22             28        0  123   \n",
              "1              1       23             19             22        0   62   \n",
              "2              8      121             17              0        0   30   \n",
              "3              1       27             19             16       62   77   \n",
              "4              0       75              4             28      102  209   \n",
              "..           ...      ...            ...            ...      ...  ...   \n",
              "763           10       39             25             41      108  118   \n",
              "764            2       60             21             20        0  155   \n",
              "765            5       59             22             16       71   58   \n",
              "766            1       64             14              0        0   95   \n",
              "767            1       31             21             24        0   98   \n",
              "\n",
              "     DiabetesPedigreeFunction  Age  Outcome  \n",
              "0                         350   29        1  \n",
              "1                         196   10        0  \n",
              "2                         368   11        1  \n",
              "3                          53    0        0  \n",
              "4                         514   12        1  \n",
              "..                        ...  ...      ...  \n",
              "763                        55   42        0  \n",
              "764                       187    6        0  \n",
              "765                       115    9        0  \n",
              "766                       195   26        1  \n",
              "767                       169    2        0  \n",
              "\n",
              "[768 rows x 9 columns]"
            ],
            "text/html": [
              "\n",
              "  <div id=\"df-18ee699c-ae9c-4cb7-a6c7-5ffb12b89bf3\">\n",
              "    <div class=\"colab-df-container\">\n",
              "      <div>\n",
              "<style scoped>\n",
              "    .dataframe tbody tr th:only-of-type {\n",
              "        vertical-align: middle;\n",
              "    }\n",
              "\n",
              "    .dataframe tbody tr th {\n",
              "        vertical-align: top;\n",
              "    }\n",
              "\n",
              "    .dataframe thead th {\n",
              "        text-align: right;\n",
              "    }\n",
              "</style>\n",
              "<table border=\"1\" class=\"dataframe\">\n",
              "  <thead>\n",
              "    <tr style=\"text-align: right;\">\n",
              "      <th></th>\n",
              "      <th>Pregnancies</th>\n",
              "      <th>Glucose</th>\n",
              "      <th>BloodPressure</th>\n",
              "      <th>SkinThickness</th>\n",
              "      <th>Insulin</th>\n",
              "      <th>BMI</th>\n",
              "      <th>DiabetesPedigreeFunction</th>\n",
              "      <th>Age</th>\n",
              "      <th>Outcome</th>\n",
              "    </tr>\n",
              "  </thead>\n",
              "  <tbody>\n",
              "    <tr>\n",
              "      <th>0</th>\n",
              "      <td>6</td>\n",
              "      <td>86</td>\n",
              "      <td>22</td>\n",
              "      <td>28</td>\n",
              "      <td>0</td>\n",
              "      <td>123</td>\n",
              "      <td>350</td>\n",
              "      <td>29</td>\n",
              "      <td>1</td>\n",
              "    </tr>\n",
              "    <tr>\n",
              "      <th>1</th>\n",
              "      <td>1</td>\n",
              "      <td>23</td>\n",
              "      <td>19</td>\n",
              "      <td>22</td>\n",
              "      <td>0</td>\n",
              "      <td>62</td>\n",
              "      <td>196</td>\n",
              "      <td>10</td>\n",
              "      <td>0</td>\n",
              "    </tr>\n",
              "    <tr>\n",
              "      <th>2</th>\n",
              "      <td>8</td>\n",
              "      <td>121</td>\n",
              "      <td>17</td>\n",
              "      <td>0</td>\n",
              "      <td>0</td>\n",
              "      <td>30</td>\n",
              "      <td>368</td>\n",
              "      <td>11</td>\n",
              "      <td>1</td>\n",
              "    </tr>\n",
              "    <tr>\n",
              "      <th>3</th>\n",
              "      <td>1</td>\n",
              "      <td>27</td>\n",
              "      <td>19</td>\n",
              "      <td>16</td>\n",
              "      <td>62</td>\n",
              "      <td>77</td>\n",
              "      <td>53</td>\n",
              "      <td>0</td>\n",
              "      <td>0</td>\n",
              "    </tr>\n",
              "    <tr>\n",
              "      <th>4</th>\n",
              "      <td>0</td>\n",
              "      <td>75</td>\n",
              "      <td>4</td>\n",
              "      <td>28</td>\n",
              "      <td>102</td>\n",
              "      <td>209</td>\n",
              "      <td>514</td>\n",
              "      <td>12</td>\n",
              "      <td>1</td>\n",
              "    </tr>\n",
              "    <tr>\n",
              "      <th>...</th>\n",
              "      <td>...</td>\n",
              "      <td>...</td>\n",
              "      <td>...</td>\n",
              "      <td>...</td>\n",
              "      <td>...</td>\n",
              "      <td>...</td>\n",
              "      <td>...</td>\n",
              "      <td>...</td>\n",
              "      <td>...</td>\n",
              "    </tr>\n",
              "    <tr>\n",
              "      <th>763</th>\n",
              "      <td>10</td>\n",
              "      <td>39</td>\n",
              "      <td>25</td>\n",
              "      <td>41</td>\n",
              "      <td>108</td>\n",
              "      <td>118</td>\n",
              "      <td>55</td>\n",
              "      <td>42</td>\n",
              "      <td>0</td>\n",
              "    </tr>\n",
              "    <tr>\n",
              "      <th>764</th>\n",
              "      <td>2</td>\n",
              "      <td>60</td>\n",
              "      <td>21</td>\n",
              "      <td>20</td>\n",
              "      <td>0</td>\n",
              "      <td>155</td>\n",
              "      <td>187</td>\n",
              "      <td>6</td>\n",
              "      <td>0</td>\n",
              "    </tr>\n",
              "    <tr>\n",
              "      <th>765</th>\n",
              "      <td>5</td>\n",
              "      <td>59</td>\n",
              "      <td>22</td>\n",
              "      <td>16</td>\n",
              "      <td>71</td>\n",
              "      <td>58</td>\n",
              "      <td>115</td>\n",
              "      <td>9</td>\n",
              "      <td>0</td>\n",
              "    </tr>\n",
              "    <tr>\n",
              "      <th>766</th>\n",
              "      <td>1</td>\n",
              "      <td>64</td>\n",
              "      <td>14</td>\n",
              "      <td>0</td>\n",
              "      <td>0</td>\n",
              "      <td>95</td>\n",
              "      <td>195</td>\n",
              "      <td>26</td>\n",
              "      <td>1</td>\n",
              "    </tr>\n",
              "    <tr>\n",
              "      <th>767</th>\n",
              "      <td>1</td>\n",
              "      <td>31</td>\n",
              "      <td>21</td>\n",
              "      <td>24</td>\n",
              "      <td>0</td>\n",
              "      <td>98</td>\n",
              "      <td>169</td>\n",
              "      <td>2</td>\n",
              "      <td>0</td>\n",
              "    </tr>\n",
              "  </tbody>\n",
              "</table>\n",
              "<p>768 rows × 9 columns</p>\n",
              "</div>\n",
              "      <button class=\"colab-df-convert\" onclick=\"convertToInteractive('df-18ee699c-ae9c-4cb7-a6c7-5ffb12b89bf3')\"\n",
              "              title=\"Convert this dataframe to an interactive table.\"\n",
              "              style=\"display:none;\">\n",
              "        \n",
              "  <svg xmlns=\"http://www.w3.org/2000/svg\" height=\"24px\"viewBox=\"0 0 24 24\"\n",
              "       width=\"24px\">\n",
              "    <path d=\"M0 0h24v24H0V0z\" fill=\"none\"/>\n",
              "    <path d=\"M18.56 5.44l.94 2.06.94-2.06 2.06-.94-2.06-.94-.94-2.06-.94 2.06-2.06.94zm-11 1L8.5 8.5l.94-2.06 2.06-.94-2.06-.94L8.5 2.5l-.94 2.06-2.06.94zm10 10l.94 2.06.94-2.06 2.06-.94-2.06-.94-.94-2.06-.94 2.06-2.06.94z\"/><path d=\"M17.41 7.96l-1.37-1.37c-.4-.4-.92-.59-1.43-.59-.52 0-1.04.2-1.43.59L10.3 9.45l-7.72 7.72c-.78.78-.78 2.05 0 2.83L4 21.41c.39.39.9.59 1.41.59.51 0 1.02-.2 1.41-.59l7.78-7.78 2.81-2.81c.8-.78.8-2.07 0-2.86zM5.41 20L4 18.59l7.72-7.72 1.47 1.35L5.41 20z\"/>\n",
              "  </svg>\n",
              "      </button>\n",
              "      \n",
              "  <style>\n",
              "    .colab-df-container {\n",
              "      display:flex;\n",
              "      flex-wrap:wrap;\n",
              "      gap: 12px;\n",
              "    }\n",
              "\n",
              "    .colab-df-convert {\n",
              "      background-color: #E8F0FE;\n",
              "      border: none;\n",
              "      border-radius: 50%;\n",
              "      cursor: pointer;\n",
              "      display: none;\n",
              "      fill: #1967D2;\n",
              "      height: 32px;\n",
              "      padding: 0 0 0 0;\n",
              "      width: 32px;\n",
              "    }\n",
              "\n",
              "    .colab-df-convert:hover {\n",
              "      background-color: #E2EBFA;\n",
              "      box-shadow: 0px 1px 2px rgba(60, 64, 67, 0.3), 0px 1px 3px 1px rgba(60, 64, 67, 0.15);\n",
              "      fill: #174EA6;\n",
              "    }\n",
              "\n",
              "    [theme=dark] .colab-df-convert {\n",
              "      background-color: #3B4455;\n",
              "      fill: #D2E3FC;\n",
              "    }\n",
              "\n",
              "    [theme=dark] .colab-df-convert:hover {\n",
              "      background-color: #434B5C;\n",
              "      box-shadow: 0px 1px 3px 1px rgba(0, 0, 0, 0.15);\n",
              "      filter: drop-shadow(0px 1px 2px rgba(0, 0, 0, 0.3));\n",
              "      fill: #FFFFFF;\n",
              "    }\n",
              "  </style>\n",
              "\n",
              "      <script>\n",
              "        const buttonEl =\n",
              "          document.querySelector('#df-18ee699c-ae9c-4cb7-a6c7-5ffb12b89bf3 button.colab-df-convert');\n",
              "        buttonEl.style.display =\n",
              "          google.colab.kernel.accessAllowed ? 'block' : 'none';\n",
              "\n",
              "        async function convertToInteractive(key) {\n",
              "          const element = document.querySelector('#df-18ee699c-ae9c-4cb7-a6c7-5ffb12b89bf3');\n",
              "          const dataTable =\n",
              "            await google.colab.kernel.invokeFunction('convertToInteractive',\n",
              "                                                     [key], {});\n",
              "          if (!dataTable) return;\n",
              "\n",
              "          const docLinkHtml = 'Like what you see? Visit the ' +\n",
              "            '<a target=\"_blank\" href=https://colab.research.google.com/notebooks/data_table.ipynb>data table notebook</a>'\n",
              "            + ' to learn more about interactive tables.';\n",
              "          element.innerHTML = '';\n",
              "          dataTable['output_type'] = 'display_data';\n",
              "          await google.colab.output.renderOutput(dataTable, element);\n",
              "          const docLink = document.createElement('div');\n",
              "          docLink.innerHTML = docLinkHtml;\n",
              "          element.appendChild(docLink);\n",
              "        }\n",
              "      </script>\n",
              "    </div>\n",
              "  </div>\n",
              "  "
            ]
          },
          "metadata": {},
          "execution_count": 38
        }
      ]
    },
    {
      "cell_type": "markdown",
      "source": [
        "train test split"
      ],
      "metadata": {
        "id": "7qSH0ORLeapj"
      }
    },
    {
      "cell_type": "code",
      "source": [
        "X = dataset.iloc[:, :-1].values\n",
        "y = dataset.iloc[:, -1].values\n",
        "\n",
        "from sklearn.model_selection import train_test_split\n",
        "X_train, X_test, y_train, y_test = train_test_split(X, y, test_size = 0.2, random_state = 0)\n",
        "\n",
        "print(\"X_train\", X_train.shape)\n",
        "print(\"y_train\", y_train.shape)\n",
        "print(\"X_test\", X_test.shape)\n",
        "print(\"y_test\", y_test.shape)"
      ],
      "metadata": {
        "colab": {
          "base_uri": "https://localhost:8080/"
        },
        "id": "Ag8Fyk2yea_U",
        "outputId": "d5a4e312-f7c8-48af-dc5b-e85148881bcd"
      },
      "execution_count": null,
      "outputs": [
        {
          "output_type": "stream",
          "name": "stdout",
          "text": [
            "X_train (614, 8)\n",
            "y_train (614,)\n",
            "X_test (154, 8)\n",
            "y_test (154,)\n"
          ]
        }
      ]
    },
    {
      "cell_type": "markdown",
      "metadata": {
        "id": "3djsGvatusaA"
      },
      "source": [
        "Hybrid Models"
      ]
    },
    {
      "cell_type": "markdown",
      "metadata": {
        "id": "y6b7dro3xKj9"
      },
      "source": [
        "K-nn + Random Forest"
      ]
    },
    {
      "cell_type": "code",
      "execution_count": null,
      "metadata": {
        "colab": {
          "base_uri": "https://localhost:8080/",
          "height": 601
        },
        "id": "0lJBkJ0IxBxe",
        "outputId": "a25de9d6-5d5c-4139-ac64-2577b882c469"
      },
      "outputs": [
        {
          "output_type": "stream",
          "name": "stdout",
          "text": [
            "\n",
            "Accuracy of Hybrid model (K-nn, Random Forest) = 88.24 %\n",
            "\n",
            "\n",
            "Confusion Matrix:\n"
          ]
        },
        {
          "output_type": "display_data",
          "data": {
            "text/plain": [
              "<Figure size 432x288 with 2 Axes>"
            ],
            "image/png": "[encoded data removed]"
          },
          "metadata": {
            "needs_background": "light"
          }
        },
        {
          "output_type": "stream",
          "name": "stdout",
          "text": [
            "\n",
            "\n",
            "Classification Report: \n",
            "\n",
            "               precision    recall  f1-score   support\n",
            "\n",
            "           0       0.83      1.00      0.91        10\n",
            "           1       1.00      0.71      0.83         7\n",
            "\n",
            "    accuracy                           0.88        17\n",
            "   macro avg       0.92      0.86      0.87        17\n",
            "weighted avg       0.90      0.88      0.88        17\n",
            "\n"
          ]
        }
      ],
      "source": [
        "\n",
        "model1 = KNeighborsClassifier()\n",
        "model2 = RandomForestClassifier(random_state=1)\n",
        "model = VotingClassifier(estimators=[('knn', model1), ('rf', model2)], voting='hard')\n",
        "model.fit(X_train, y_train)\n",
        "\n",
        "# Predicting the Test set results\n",
        "y_pred = model.predict(X_test)\n",
        "\n",
        "print()\n",
        "print('Accuracy of Hybrid model (K-nn, Random Forest) = {} %'.format(round(accuracy_score(y_test, y_pred)*100,2)))\n",
        "print('\\n')\n",
        "\n",
        "# Compute the error.\n",
        "from sklearn.metrics import confusion_matrix\n",
        "CM = confusion_matrix(y_test, y_pred)\n",
        "print('Confusion Matrix:')\n",
        "\n",
        "# drawing confusion matrix\n",
        "sns.heatmap(CM, center = True , annot=True, fmt=\"d\" ,cmap=\"RdYlBu\")\n",
        "plt.show()\n",
        "print('\\n')\n",
        "    \n",
        "#classification report\n",
        "from sklearn.metrics import classification_report\n",
        "print(\"Classification Report: \\n\\n\", classification_report(y_test,y_pred))"
      ]
    },
    {
      "cell_type": "markdown",
      "metadata": {
        "id": "vsMTHxRIy78V"
      },
      "source": [
        "AdaBoost + Random Forest"
      ]
    },
    {
      "cell_type": "code",
      "execution_count": null,
      "metadata": {
        "colab": {
          "base_uri": "https://localhost:8080/",
          "height": 601
        },
        "id": "C4AM9FCKzFs-",
        "outputId": "f48ff5f3-69c0-43ea-efe5-72d78dde6cc7"
      },
      "outputs": [
        {
          "output_type": "stream",
          "name": "stdout",
          "text": [
            "\n",
            "Accuracy of Hybrid model (AdaBoost, Random Forest) = 94.12\n",
            "\n",
            "\n",
            "Confusion Matrix: \n"
          ]
        },
        {
          "output_type": "display_data",
          "data": {
            "text/plain": [
              "<Figure size 432x288 with 2 Axes>"
            ],
            "image/png": "[encoded data removed]"
          },
          "metadata": {
            "needs_background": "light"
          }
        },
        {
          "output_type": "stream",
          "name": "stdout",
          "text": [
            "\n",
            "\n",
            "Classification Report: \n",
            "\n",
            "               precision    recall  f1-score   support\n",
            "\n",
            "           0       0.91      1.00      0.95        10\n",
            "           1       1.00      0.86      0.92         7\n",
            "\n",
            "    accuracy                           0.94        17\n",
            "   macro avg       0.95      0.93      0.94        17\n",
            "weighted avg       0.95      0.94      0.94        17\n",
            "\n"
          ]
        }
      ],
      "source": [
        "\n",
        "model1 = AdaBoostClassifier(learning_rate=0.01, n_estimators=1000)\n",
        "model2 = RandomForestClassifier(random_state=1)\n",
        "model = VotingClassifier(estimators=[('knn', model1), ('rf', model2)], voting='hard')\n",
        "model.fit(X_train, y_train)\n",
        "\n",
        "# Predicting the Test set results\n",
        "y_pred = model.predict(X_test)\n",
        "\n",
        "print()\n",
        "print('Accuracy of Hybrid model (AdaBoost, Random Forest) = {}'.format(round(accuracy_score(y_test, y_pred)*100,2)))\n",
        "print('\\n')\n",
        "\n",
        "# Compute the error.\n",
        "from sklearn.metrics import confusion_matrix\n",
        "CM = confusion_matrix(y_test, y_pred)\n",
        "print('Confusion Matrix: ')\n",
        "    \n",
        "# drawing confusion matrix\n",
        "sns.heatmap(CM, center = True , annot=True, fmt=\"d\" ,cmap=\"RdYlBu\")\n",
        "plt.show()\n",
        "print('\\n')\n",
        "    \n",
        "#classification report\n",
        "from sklearn.metrics import classification_report\n",
        "print(\"Classification Report: \\n\\n\",classification_report(y_test,y_pred))"
      ]
    },
    {
      "cell_type": "markdown",
      "metadata": {
        "id": "dK0LHhmqxDBV"
      },
      "source": [
        "XG Boost + AdaBoost + Random Forest"
      ]
    },
    {
      "cell_type": "code",
      "execution_count": null,
      "metadata": {
        "colab": {
          "base_uri": "https://localhost:8080/",
          "height": 615
        },
        "id": "R2SFfBZCtPJy",
        "outputId": "2b952714-fe0b-410a-c83f-260a40211eb4"
      },
      "outputs": [
        {
          "output_type": "stream",
          "name": "stdout",
          "text": [
            "\n",
            "Accuracy for training set for Hybrid model (XG Boost, AdaBoost, Random Forest) = 82.47\n",
            "\n",
            "\n",
            "Confusion Matrix: \n",
            "\n"
          ]
        },
        {
          "output_type": "display_data",
          "data": {
            "text/plain": [
              "<Figure size 432x288 with 2 Axes>"
            ],
            "image/png": "[encoded data removed]"
          },
          "metadata": {
            "needs_background": "light"
          }
        },
        {
          "output_type": "stream",
          "name": "stdout",
          "text": [
            "\n",
            "\n",
            "Classification Report: \n",
            "\n",
            "               precision    recall  f1-score   support\n",
            "\n",
            "           0       0.86      0.89      0.88       107\n",
            "           1       0.73      0.68      0.70        47\n",
            "\n",
            "    accuracy                           0.82       154\n",
            "   macro avg       0.80      0.78      0.79       154\n",
            "weighted avg       0.82      0.82      0.82       154\n",
            "\n"
          ]
        }
      ],
      "source": [
        "\n",
        "model_1 = XGBClassifier(learning_rate=1, n_estimators=1000)\n",
        "model_2 = AdaBoostClassifier(learning_rate=1, n_estimators=1000)\n",
        "model_3 = RandomForestClassifier(n_estimators=1000, random_state=42)\n",
        "\n",
        "estimators = []\n",
        "\n",
        "estimators.append(('xgb',model_1))\n",
        "estimators.append(('adaboost',model_2))\n",
        "estimators.append(('clf',model_3))\n",
        "\n",
        "hybrid_model = StackingClassifier(estimators)\n",
        "\n",
        "hybrid_model.fit(X_train, y_train)\n",
        "\n",
        "# Predicting the Test set results\n",
        "y_pred = hybrid_model.predict(X_test)\n",
        "\n",
        "print()\n",
        "print('Accuracy for training set for Hybrid model (XG Boost, AdaBoost, Random Forest) = {}'.format(round(accuracy_score(y_test, y_pred)*100,2)))\n",
        "print('\\n')\n",
        "\n",
        "# Compute the error.\n",
        "from sklearn.metrics import confusion_matrix\n",
        "CM = confusion_matrix(y_test, y_pred)\n",
        "print('Confusion Matrix: \\n')\n",
        "    \n",
        "# drawing confusion matrix\n",
        "sns.heatmap(CM, center = True , annot=True, fmt=\"d\" ,cmap=\"RdYlBu\")\n",
        "plt.show()\n",
        "print('\\n')\n",
        "    \n",
        "#classification report\n",
        "from sklearn.metrics import classification_report\n",
        "print(\"Classification Report: \\n\\n\",classification_report(y_test,y_pred))"
      ]
    },
    {
      "cell_type": "code",
      "source": [
        "# Predicting the Test set results\n",
        "y_pred = lr.predict(X_test)\n",
        "\n",
        "print()\n",
        "print('Accuracy of Hybrid model (XG Boost, AdaBoost, Random Forest) = {}'.format(round(accuracy_score(y_test, y_pred)*100,2)))\n",
        "print('\\n')\n",
        "\n",
        "# Compute the error.\n",
        "from sklearn.metrics import confusion_matrix\n",
        "CM = confusion_matrix(y_test, y_pred)\n",
        "print('Confusion Matrix: ')\n",
        "    \n",
        "# drawing confusion matrix\n",
        "sns.heatmap(CM, center = True , annot=True, fmt=\"d\" ,cmap=\"RdYlBu\")\n",
        "plt.show()\n",
        "print('\\n')\n",
        "    \n",
        "#classification report\n",
        "from sklearn.metrics import classification_report\n",
        "print(\"Classification Report: \\n\\n\",classification_report(y_test,y_pred))"
      ],
      "metadata": {
        "colab": {
          "base_uri": "https://localhost:8080/",
          "height": 601
        },
        "id": "YjKCjU5WgcSq",
        "outputId": "d7f62618-c0aa-4896-87ab-0cb16435350f"
      },
      "execution_count": null,
      "outputs": [
        {
          "output_type": "stream",
          "name": "stdout",
          "text": [
            "\n",
            "Accuracy of Hybrid model (XG Boost, AdaBoost, Random Forest) = 100.0\n",
            "\n",
            "\n",
            "Confusion Matrix: \n"
          ]
        },
        {
          "output_type": "display_data",
          "data": {
            "text/plain": [
              "<Figure size 432x288 with 2 Axes>"
            ],
            "image/png": "[encoded data removed]"
          },
          "metadata": {
            "needs_background": "light"
          }
        },
        {
          "output_type": "stream",
          "name": "stdout",
          "text": [
            "\n",
            "\n",
            "Classification Report: \n",
            "\n",
            "               precision    recall  f1-score   support\n",
            "\n",
            "           0       1.00      1.00      1.00        10\n",
            "           1       1.00      1.00      1.00         7\n",
            "\n",
            "    accuracy                           1.00        17\n",
            "   macro avg       1.00      1.00      1.00        17\n",
            "weighted avg       1.00      1.00      1.00        17\n",
            "\n"
          ]
        }
      ]
    },
    {
      "cell_type": "code",
      "source": [
        "\n",
        "\n",
        "\n",
        "# y_pred = lr.predict(y_train_pred)\n",
        "# print(accuracy_score(y_test, y_pred))\n",
        "print()\n",
        "print('Accuracy for training set for Hybrid model (XG Boost, AdaBoost, Random Forest) = {}'.format(round(accuracy_score(y_train, y_train_pred)*100,2)))\n",
        "print('\\n')\n",
        "\n",
        "# Compute the error.\n",
        "from sklearn.metrics import confusion_matrix\n",
        "CM = confusion_matrix(y_train, y_train_pred)\n",
        "print('Confusion Matrix: \\n')\n",
        "    \n",
        "# drawing confusion matrix\n",
        "sns.heatmap(CM, center = True , annot=True, fmt=\"d\" ,cmap=\"RdYlBu\")\n",
        "plt.show()\n",
        "print('\\n')\n",
        "    \n",
        "#classification report\n",
        "from sklearn.metrics import classification_report\n",
        "print(\"Classification Report: \\n\\n\",classification_report(y_train, y_train_pred))"
      ],
      "metadata": {
        "colab": {
          "base_uri": "https://localhost:8080/",
          "height": 615
        },
        "id": "insh0THwWt51",
        "outputId": "1cd8bc77-7b6c-4dfe-971b-644111316243"
      },
      "execution_count": null,
      "outputs": [
        {
          "output_type": "stream",
          "name": "stdout",
          "text": [
            "\n",
            "Accuracy for training set for Hybrid model (XG Boost, AdaBoost, Random Forest) = 100.0\n",
            "\n",
            "\n",
            "Confusion Matrix: \n",
            "\n"
          ]
        },
        {
          "output_type": "display_data",
          "data": {
            "text/plain": [
              "<Figure size 432x288 with 2 Axes>"
            ],
            "image/png": "[encoded data removed]"
          },
          "metadata": {
            "needs_background": "light"
          }
        },
        {
          "output_type": "stream",
          "name": "stdout",
          "text": [
            "\n",
            "\n",
            "Classification Report: \n",
            "\n",
            "               precision    recall  f1-score   support\n",
            "\n",
            "           0       1.00      1.00      1.00       449\n",
            "           1       1.00      1.00      1.00       242\n",
            "\n",
            "    accuracy                           1.00       691\n",
            "   macro avg       1.00      1.00      1.00       691\n",
            "weighted avg       1.00      1.00      1.00       691\n",
            "\n"
          ]
        }
      ]
    },
    {
      "cell_type": "code",
      "source": [
        "from keras.utils.np_utils import to_categorical\n",
        "\n",
        "X = dataset.iloc[:,:-1]\n",
        "y = dataset.iloc[:, -1]\n",
        "\n",
        "labels = to_categorical(y)\n",
        "print(labels.shape)\n",
        "\n",
        "from sklearn.model_selection import train_test_split\n",
        "X_train,X_test,y_train,y_test = train_test_split(X,labels,test_size = 0.1,random_state = 0)"
      ],
      "metadata": {
        "colab": {
          "base_uri": "https://localhost:8080/"
        },
        "id": "A2RO2sHtYsly",
        "outputId": "81e6fd25-3cce-4b02-8dde-15dfed461d9e"
      },
      "execution_count": null,
      "outputs": [
        {
          "output_type": "stream",
          "name": "stdout",
          "text": [
            "(768, 2)\n"
          ]
        }
      ]
    },
    {
      "cell_type": "code",
      "source": [
        "from keras.models import Sequential\n",
        "from keras.layers import Activation,BatchNormalization, Bidirectional, Dense, Dropout, Embedding, Flatten, Conv1D, MaxPooling1D, GlobalMaxPool1D, LSTM\n",
        "from keras import utils\n",
        "from tensorflow.keras.optimizers import Adam"
      ],
      "metadata": {
        "id": "zCXSa_ZrY9jk"
      },
      "execution_count": null,
      "outputs": []
    },
    {
      "cell_type": "code",
      "source": [
        "seq_model = Sequential()\n",
        "# seq_model.add(Dense(81, activation='relu'))\n",
        "# seq_model.add(BatchNormalization())\n",
        "# seq_model.add(Dense(27, activation='relu'))\n",
        "# seq_model.add(BatchNormalization())\n",
        "seq_model.add(Dense(9, activation='relu'))\n",
        "seq_model.add(BatchNormalization())\n",
        "seq_model.add(Dense(2, activation='softmax'))\n",
        "# seq_model.summary()"
      ],
      "metadata": {
        "id": "uD9OoqKoYkbL"
      },
      "execution_count": null,
      "outputs": []
    },
    {
      "cell_type": "code",
      "source": [
        "seq_model.compile(loss='binary_crossentropy',\n",
        "                  optimizer=Adam(0.001),\n",
        "                  metrics=['accuracy'])\n",
        "seq_model.fit(X_train, y_train,\n",
        "                    batch_size=16,\n",
        "                    epochs=50,\n",
        "                    validation_data=(X_test, y_test),\n",
        "                    verbose=1)"
      ],
      "metadata": {
        "colab": {
          "base_uri": "https://localhost:8080/"
        },
        "id": "io8zeQO6ZA8k",
        "outputId": "cf569594-d59b-43c2-fd72-5c58974d04ad"
      },
      "execution_count": null,
      "outputs": [
        {
          "output_type": "stream",
          "name": "stdout",
          "text": [
            "Epoch 1/50\n",
            "44/44 [==============================] - 2s 12ms/step - loss: 0.4906 - accuracy: 0.7554 - val_loss: 0.4299 - val_accuracy: 0.8701\n",
            "Epoch 2/50\n",
            "44/44 [==============================] - 0s 5ms/step - loss: 0.4970 - accuracy: 0.7569 - val_loss: 0.4320 - val_accuracy: 0.8571\n",
            "Epoch 3/50\n",
            "44/44 [==============================] - 0s 5ms/step - loss: 0.4929 - accuracy: 0.7641 - val_loss: 0.4291 - val_accuracy: 0.8571\n",
            "Epoch 4/50\n",
            "44/44 [==============================] - 0s 5ms/step - loss: 0.5001 - accuracy: 0.7482 - val_loss: 0.4256 - val_accuracy: 0.8831\n",
            "Epoch 5/50\n",
            "44/44 [==============================] - 0s 4ms/step - loss: 0.4877 - accuracy: 0.7656 - val_loss: 0.4255 - val_accuracy: 0.8831\n",
            "Epoch 6/50\n",
            "44/44 [==============================] - 0s 5ms/step - loss: 0.4913 - accuracy: 0.7540 - val_loss: 0.4290 - val_accuracy: 0.8701\n",
            "Epoch 7/50\n",
            "44/44 [==============================] - 0s 5ms/step - loss: 0.4979 - accuracy: 0.7482 - val_loss: 0.4293 - val_accuracy: 0.8701\n",
            "Epoch 8/50\n",
            "44/44 [==============================] - 0s 5ms/step - loss: 0.4910 - accuracy: 0.7554 - val_loss: 0.4276 - val_accuracy: 0.8701\n",
            "Epoch 9/50\n",
            "44/44 [==============================] - 0s 4ms/step - loss: 0.4779 - accuracy: 0.7757 - val_loss: 0.4275 - val_accuracy: 0.8701\n",
            "Epoch 10/50\n",
            "44/44 [==============================] - 0s 4ms/step - loss: 0.4904 - accuracy: 0.7554 - val_loss: 0.4271 - val_accuracy: 0.8701\n",
            "Epoch 11/50\n",
            "44/44 [==============================] - 0s 5ms/step - loss: 0.4932 - accuracy: 0.7410 - val_loss: 0.4230 - val_accuracy: 0.8701\n",
            "Epoch 12/50\n",
            "44/44 [==============================] - 0s 4ms/step - loss: 0.4821 - accuracy: 0.7685 - val_loss: 0.4255 - val_accuracy: 0.8701\n",
            "Epoch 13/50\n",
            "44/44 [==============================] - 0s 4ms/step - loss: 0.4959 - accuracy: 0.7540 - val_loss: 0.4259 - val_accuracy: 0.8571\n",
            "Epoch 14/50\n",
            "44/44 [==============================] - 0s 4ms/step - loss: 0.4835 - accuracy: 0.7511 - val_loss: 0.4248 - val_accuracy: 0.8571\n",
            "Epoch 15/50\n",
            "44/44 [==============================] - 0s 4ms/step - loss: 0.4749 - accuracy: 0.7713 - val_loss: 0.4247 - val_accuracy: 0.8701\n",
            "Epoch 16/50\n",
            "44/44 [==============================] - 0s 5ms/step - loss: 0.4947 - accuracy: 0.7438 - val_loss: 0.4264 - val_accuracy: 0.8571\n",
            "Epoch 17/50\n",
            "44/44 [==============================] - 0s 4ms/step - loss: 0.4821 - accuracy: 0.7670 - val_loss: 0.4281 - val_accuracy: 0.8442\n",
            "Epoch 18/50\n",
            "44/44 [==============================] - 0s 4ms/step - loss: 0.4870 - accuracy: 0.7598 - val_loss: 0.4268 - val_accuracy: 0.8701\n",
            "Epoch 19/50\n",
            "44/44 [==============================] - 0s 4ms/step - loss: 0.4839 - accuracy: 0.7598 - val_loss: 0.4271 - val_accuracy: 0.8701\n",
            "Epoch 20/50\n",
            "44/44 [==============================] - 0s 4ms/step - loss: 0.4803 - accuracy: 0.7612 - val_loss: 0.4231 - val_accuracy: 0.8701\n",
            "Epoch 21/50\n",
            "44/44 [==============================] - 0s 5ms/step - loss: 0.4878 - accuracy: 0.7511 - val_loss: 0.4265 - val_accuracy: 0.8701\n",
            "Epoch 22/50\n",
            "44/44 [==============================] - 0s 5ms/step - loss: 0.4877 - accuracy: 0.7612 - val_loss: 0.4219 - val_accuracy: 0.8701\n",
            "Epoch 23/50\n",
            "44/44 [==============================] - 0s 4ms/step - loss: 0.4831 - accuracy: 0.7742 - val_loss: 0.4229 - val_accuracy: 0.8701\n",
            "Epoch 24/50\n",
            "44/44 [==============================] - 0s 4ms/step - loss: 0.4838 - accuracy: 0.7627 - val_loss: 0.4244 - val_accuracy: 0.8701\n",
            "Epoch 25/50\n",
            "44/44 [==============================] - 0s 5ms/step - loss: 0.4819 - accuracy: 0.7641 - val_loss: 0.4285 - val_accuracy: 0.8571\n",
            "Epoch 26/50\n",
            "44/44 [==============================] - 0s 6ms/step - loss: 0.4894 - accuracy: 0.7496 - val_loss: 0.4266 - val_accuracy: 0.8701\n",
            "Epoch 27/50\n",
            "44/44 [==============================] - 0s 5ms/step - loss: 0.4852 - accuracy: 0.7554 - val_loss: 0.4217 - val_accuracy: 0.8701\n",
            "Epoch 28/50\n",
            "44/44 [==============================] - 0s 5ms/step - loss: 0.4910 - accuracy: 0.7453 - val_loss: 0.4223 - val_accuracy: 0.8701\n",
            "Epoch 29/50\n",
            "44/44 [==============================] - 0s 4ms/step - loss: 0.4827 - accuracy: 0.7612 - val_loss: 0.4207 - val_accuracy: 0.8701\n",
            "Epoch 30/50\n",
            "44/44 [==============================] - 0s 4ms/step - loss: 0.4847 - accuracy: 0.7627 - val_loss: 0.4226 - val_accuracy: 0.8701\n",
            "Epoch 31/50\n",
            "44/44 [==============================] - 0s 5ms/step - loss: 0.4888 - accuracy: 0.7511 - val_loss: 0.4236 - val_accuracy: 0.8701\n",
            "Epoch 32/50\n",
            "44/44 [==============================] - 0s 5ms/step - loss: 0.4843 - accuracy: 0.7612 - val_loss: 0.4259 - val_accuracy: 0.8701\n",
            "Epoch 33/50\n",
            "44/44 [==============================] - 0s 3ms/step - loss: 0.4812 - accuracy: 0.7858 - val_loss: 0.4257 - val_accuracy: 0.8701\n",
            "Epoch 34/50\n",
            "44/44 [==============================] - 0s 3ms/step - loss: 0.4724 - accuracy: 0.7627 - val_loss: 0.4236 - val_accuracy: 0.8701\n",
            "Epoch 35/50\n",
            "44/44 [==============================] - 0s 3ms/step - loss: 0.4904 - accuracy: 0.7438 - val_loss: 0.4249 - val_accuracy: 0.8701\n",
            "Epoch 36/50\n",
            "44/44 [==============================] - 0s 3ms/step - loss: 0.4767 - accuracy: 0.7612 - val_loss: 0.4198 - val_accuracy: 0.8571\n",
            "Epoch 37/50\n",
            "44/44 [==============================] - 0s 3ms/step - loss: 0.4787 - accuracy: 0.7569 - val_loss: 0.4242 - val_accuracy: 0.8571\n",
            "Epoch 38/50\n",
            "44/44 [==============================] - 0s 2ms/step - loss: 0.4902 - accuracy: 0.7511 - val_loss: 0.4213 - val_accuracy: 0.8701\n",
            "Epoch 39/50\n",
            "44/44 [==============================] - 0s 3ms/step - loss: 0.4886 - accuracy: 0.7554 - val_loss: 0.4209 - val_accuracy: 0.8571\n",
            "Epoch 40/50\n",
            "44/44 [==============================] - 0s 3ms/step - loss: 0.4797 - accuracy: 0.7656 - val_loss: 0.4222 - val_accuracy: 0.8571\n",
            "Epoch 41/50\n",
            "44/44 [==============================] - 0s 3ms/step - loss: 0.4757 - accuracy: 0.7728 - val_loss: 0.4223 - val_accuracy: 0.8701\n",
            "Epoch 42/50\n",
            "44/44 [==============================] - 0s 3ms/step - loss: 0.4853 - accuracy: 0.7612 - val_loss: 0.4208 - val_accuracy: 0.8701\n",
            "Epoch 43/50\n",
            "44/44 [==============================] - 0s 3ms/step - loss: 0.4921 - accuracy: 0.7511 - val_loss: 0.4147 - val_accuracy: 0.8571\n",
            "Epoch 44/50\n",
            "44/44 [==============================] - 0s 3ms/step - loss: 0.4894 - accuracy: 0.7612 - val_loss: 0.4189 - val_accuracy: 0.8442\n",
            "Epoch 45/50\n",
            "44/44 [==============================] - 0s 3ms/step - loss: 0.4871 - accuracy: 0.7453 - val_loss: 0.4202 - val_accuracy: 0.8571\n",
            "Epoch 46/50\n",
            "44/44 [==============================] - 0s 3ms/step - loss: 0.4799 - accuracy: 0.7641 - val_loss: 0.4206 - val_accuracy: 0.8442\n",
            "Epoch 47/50\n",
            "44/44 [==============================] - 0s 3ms/step - loss: 0.4881 - accuracy: 0.7496 - val_loss: 0.4180 - val_accuracy: 0.8571\n",
            "Epoch 48/50\n",
            "44/44 [==============================] - 0s 3ms/step - loss: 0.4824 - accuracy: 0.7641 - val_loss: 0.4203 - val_accuracy: 0.8701\n",
            "Epoch 49/50\n",
            "44/44 [==============================] - 0s 3ms/step - loss: 0.4844 - accuracy: 0.7583 - val_loss: 0.4216 - val_accuracy: 0.8701\n",
            "Epoch 50/50\n",
            "44/44 [==============================] - 0s 3ms/step - loss: 0.4792 - accuracy: 0.7771 - val_loss: 0.4225 - val_accuracy: 0.8571\n"
          ]
        },
        {
          "output_type": "execute_result",
          "data": {
            "text/plain": [
              "<keras.callbacks.History at 0x7ff7d5649790>"
            ]
          },
          "metadata": {},
          "execution_count": 141
        }
      ]
    },
    {
      "cell_type": "markdown",
      "source": [
        "prediction"
      ],
      "metadata": {
        "id": "iQp_4wzUtMpm"
      }
    },
    {
      "cell_type": "code",
      "source": [
        "dataset"
      ],
      "metadata": {
        "colab": {
          "base_uri": "https://localhost:8080/",
          "height": 424
        },
        "id": "kSo7PgtZtXbm",
        "outputId": "84ecce72-ce91-4d33-c280-566916bd71ee"
      },
      "execution_count": null,
      "outputs": [
        {
          "output_type": "execute_result",
          "data": {
            "text/plain": [
              "     Pregnancies  Glucose  BloodPressure  SkinThickness  Insulin   BMI  \\\n",
              "0              6      148             72             35        0  33.6   \n",
              "1              1       85             66             29        0  26.6   \n",
              "2              8      183             64              0        0  23.3   \n",
              "3              1       89             66             23       94  28.1   \n",
              "4              0      137             40             35      168  43.1   \n",
              "..           ...      ...            ...            ...      ...   ...   \n",
              "763           10      101             76             48      180  32.9   \n",
              "764            2      122             70             27        0  36.8   \n",
              "765            5      121             72             23      112  26.2   \n",
              "766            1      126             60              0        0  30.1   \n",
              "767            1       93             70             31        0  30.4   \n",
              "\n",
              "     DiabetesPedigreeFunction  Age  Outcome  \n",
              "0                       0.627   50        1  \n",
              "1                       0.351   31        0  \n",
              "2                       0.672   32        1  \n",
              "3                       0.167   21        0  \n",
              "4                       2.288   33        1  \n",
              "..                        ...  ...      ...  \n",
              "763                     0.171   63        0  \n",
              "764                     0.340   27        0  \n",
              "765                     0.245   30        0  \n",
              "766                     0.349   47        1  \n",
              "767                     0.315   23        0  \n",
              "\n",
              "[768 rows x 9 columns]"
            ],
            "text/html": [
              "\n",
              "  <div id=\"df-ad98eb21-8f69-40dc-8957-90bc1744eff7\">\n",
              "    <div class=\"colab-df-container\">\n",
              "      <div>\n",
              "<style scoped>\n",
              "    .dataframe tbody tr th:only-of-type {\n",
              "        vertical-align: middle;\n",
              "    }\n",
              "\n",
              "    .dataframe tbody tr th {\n",
              "        vertical-align: top;\n",
              "    }\n",
              "\n",
              "    .dataframe thead th {\n",
              "        text-align: right;\n",
              "    }\n",
              "</style>\n",
              "<table border=\"1\" class=\"dataframe\">\n",
              "  <thead>\n",
              "    <tr style=\"text-align: right;\">\n",
              "      <th></th>\n",
              "      <th>Pregnancies</th>\n",
              "      <th>Glucose</th>\n",
              "      <th>BloodPressure</th>\n",
              "      <th>SkinThickness</th>\n",
              "      <th>Insulin</th>\n",
              "      <th>BMI</th>\n",
              "      <th>DiabetesPedigreeFunction</th>\n",
              "      <th>Age</th>\n",
              "      <th>Outcome</th>\n",
              "    </tr>\n",
              "  </thead>\n",
              "  <tbody>\n",
              "    <tr>\n",
              "      <th>0</th>\n",
              "      <td>6</td>\n",
              "      <td>148</td>\n",
              "      <td>72</td>\n",
              "      <td>35</td>\n",
              "      <td>0</td>\n",
              "      <td>33.6</td>\n",
              "      <td>0.627</td>\n",
              "      <td>50</td>\n",
              "      <td>1</td>\n",
              "    </tr>\n",
              "    <tr>\n",
              "      <th>1</th>\n",
              "      <td>1</td>\n",
              "      <td>85</td>\n",
              "      <td>66</td>\n",
              "      <td>29</td>\n",
              "      <td>0</td>\n",
              "      <td>26.6</td>\n",
              "      <td>0.351</td>\n",
              "      <td>31</td>\n",
              "      <td>0</td>\n",
              "    </tr>\n",
              "    <tr>\n",
              "      <th>2</th>\n",
              "      <td>8</td>\n",
              "      <td>183</td>\n",
              "      <td>64</td>\n",
              "      <td>0</td>\n",
              "      <td>0</td>\n",
              "      <td>23.3</td>\n",
              "      <td>0.672</td>\n",
              "      <td>32</td>\n",
              "      <td>1</td>\n",
              "    </tr>\n",
              "    <tr>\n",
              "      <th>3</th>\n",
              "      <td>1</td>\n",
              "      <td>89</td>\n",
              "      <td>66</td>\n",
              "      <td>23</td>\n",
              "      <td>94</td>\n",
              "      <td>28.1</td>\n",
              "      <td>0.167</td>\n",
              "      <td>21</td>\n",
              "      <td>0</td>\n",
              "    </tr>\n",
              "    <tr>\n",
              "      <th>4</th>\n",
              "      <td>0</td>\n",
              "      <td>137</td>\n",
              "      <td>40</td>\n",
              "      <td>35</td>\n",
              "      <td>168</td>\n",
              "      <td>43.1</td>\n",
              "      <td>2.288</td>\n",
              "      <td>33</td>\n",
              "      <td>1</td>\n",
              "    </tr>\n",
              "    <tr>\n",
              "      <th>...</th>\n",
              "      <td>...</td>\n",
              "      <td>...</td>\n",
              "      <td>...</td>\n",
              "      <td>...</td>\n",
              "      <td>...</td>\n",
              "      <td>...</td>\n",
              "      <td>...</td>\n",
              "      <td>...</td>\n",
              "      <td>...</td>\n",
              "    </tr>\n",
              "    <tr>\n",
              "      <th>763</th>\n",
              "      <td>10</td>\n",
              "      <td>101</td>\n",
              "      <td>76</td>\n",
              "      <td>48</td>\n",
              "      <td>180</td>\n",
              "      <td>32.9</td>\n",
              "      <td>0.171</td>\n",
              "      <td>63</td>\n",
              "      <td>0</td>\n",
              "    </tr>\n",
              "    <tr>\n",
              "      <th>764</th>\n",
              "      <td>2</td>\n",
              "      <td>122</td>\n",
              "      <td>70</td>\n",
              "      <td>27</td>\n",
              "      <td>0</td>\n",
              "      <td>36.8</td>\n",
              "      <td>0.340</td>\n",
              "      <td>27</td>\n",
              "      <td>0</td>\n",
              "    </tr>\n",
              "    <tr>\n",
              "      <th>765</th>\n",
              "      <td>5</td>\n",
              "      <td>121</td>\n",
              "      <td>72</td>\n",
              "      <td>23</td>\n",
              "      <td>112</td>\n",
              "      <td>26.2</td>\n",
              "      <td>0.245</td>\n",
              "      <td>30</td>\n",
              "      <td>0</td>\n",
              "    </tr>\n",
              "    <tr>\n",
              "      <th>766</th>\n",
              "      <td>1</td>\n",
              "      <td>126</td>\n",
              "      <td>60</td>\n",
              "      <td>0</td>\n",
              "      <td>0</td>\n",
              "      <td>30.1</td>\n",
              "      <td>0.349</td>\n",
              "      <td>47</td>\n",
              "      <td>1</td>\n",
              "    </tr>\n",
              "    <tr>\n",
              "      <th>767</th>\n",
              "      <td>1</td>\n",
              "      <td>93</td>\n",
              "      <td>70</td>\n",
              "      <td>31</td>\n",
              "      <td>0</td>\n",
              "      <td>30.4</td>\n",
              "      <td>0.315</td>\n",
              "      <td>23</td>\n",
              "      <td>0</td>\n",
              "    </tr>\n",
              "  </tbody>\n",
              "</table>\n",
              "<p>768 rows × 9 columns</p>\n",
              "</div>\n",
              "      <button class=\"colab-df-convert\" onclick=\"convertToInteractive('df-ad98eb21-8f69-40dc-8957-90bc1744eff7')\"\n",
              "              title=\"Convert this dataframe to an interactive table.\"\n",
              "              style=\"display:none;\">\n",
              "        \n",
              "  <svg xmlns=\"http://www.w3.org/2000/svg\" height=\"24px\"viewBox=\"0 0 24 24\"\n",
              "       width=\"24px\">\n",
              "    <path d=\"M0 0h24v24H0V0z\" fill=\"none\"/>\n",
              "    <path d=\"M18.56 5.44l.94 2.06.94-2.06 2.06-.94-2.06-.94-.94-2.06-.94 2.06-2.06.94zm-11 1L8.5 8.5l.94-2.06 2.06-.94-2.06-.94L8.5 2.5l-.94 2.06-2.06.94zm10 10l.94 2.06.94-2.06 2.06-.94-2.06-.94-.94-2.06-.94 2.06-2.06.94z\"/><path d=\"M17.41 7.96l-1.37-1.37c-.4-.4-.92-.59-1.43-.59-.52 0-1.04.2-1.43.59L10.3 9.45l-7.72 7.72c-.78.78-.78 2.05 0 2.83L4 21.41c.39.39.9.59 1.41.59.51 0 1.02-.2 1.41-.59l7.78-7.78 2.81-2.81c.8-.78.8-2.07 0-2.86zM5.41 20L4 18.59l7.72-7.72 1.47 1.35L5.41 20z\"/>\n",
              "  </svg>\n",
              "      </button>\n",
              "      \n",
              "  <style>\n",
              "    .colab-df-container {\n",
              "      display:flex;\n",
              "      flex-wrap:wrap;\n",
              "      gap: 12px;\n",
              "    }\n",
              "\n",
              "    .colab-df-convert {\n",
              "      background-color: #E8F0FE;\n",
              "      border: none;\n",
              "      border-radius: 50%;\n",
              "      cursor: pointer;\n",
              "      display: none;\n",
              "      fill: #1967D2;\n",
              "      height: 32px;\n",
              "      padding: 0 0 0 0;\n",
              "      width: 32px;\n",
              "    }\n",
              "\n",
              "    .colab-df-convert:hover {\n",
              "      background-color: #E2EBFA;\n",
              "      box-shadow: 0px 1px 2px rgba(60, 64, 67, 0.3), 0px 1px 3px 1px rgba(60, 64, 67, 0.15);\n",
              "      fill: #174EA6;\n",
              "    }\n",
              "\n",
              "    [theme=dark] .colab-df-convert {\n",
              "      background-color: #3B4455;\n",
              "      fill: #D2E3FC;\n",
              "    }\n",
              "\n",
              "    [theme=dark] .colab-df-convert:hover {\n",
              "      background-color: #434B5C;\n",
              "      box-shadow: 0px 1px 3px 1px rgba(0, 0, 0, 0.15);\n",
              "      filter: drop-shadow(0px 1px 2px rgba(0, 0, 0, 0.3));\n",
              "      fill: #FFFFFF;\n",
              "    }\n",
              "  </style>\n",
              "\n",
              "      <script>\n",
              "        const buttonEl =\n",
              "          document.querySelector('#df-ad98eb21-8f69-40dc-8957-90bc1744eff7 button.colab-df-convert');\n",
              "        buttonEl.style.display =\n",
              "          google.colab.kernel.accessAllowed ? 'block' : 'none';\n",
              "\n",
              "        async function convertToInteractive(key) {\n",
              "          const element = document.querySelector('#df-ad98eb21-8f69-40dc-8957-90bc1744eff7');\n",
              "          const dataTable =\n",
              "            await google.colab.kernel.invokeFunction('convertToInteractive',\n",
              "                                                     [key], {});\n",
              "          if (!dataTable) return;\n",
              "\n",
              "          const docLinkHtml = 'Like what you see? Visit the ' +\n",
              "            '<a target=\"_blank\" href=https://colab.research.google.com/notebooks/data_table.ipynb>data table notebook</a>'\n",
              "            + ' to learn more about interactive tables.';\n",
              "          element.innerHTML = '';\n",
              "          dataTable['output_type'] = 'display_data';\n",
              "          await google.colab.output.renderOutput(dataTable, element);\n",
              "          const docLink = document.createElement('div');\n",
              "          docLink.innerHTML = docLinkHtml;\n",
              "          element.appendChild(docLink);\n",
              "        }\n",
              "      </script>\n",
              "    </div>\n",
              "  </div>\n",
              "  "
            ]
          },
          "metadata": {},
          "execution_count": 43
        }
      ]
    },
    {
      "cell_type": "code",
      "source": [
        "lr = hybrid_model"
      ],
      "metadata": {
        "id": "xXdVXWWhnwqv"
      },
      "execution_count": null,
      "outputs": []
    },
    {
      "cell_type": "code",
      "source": [
        "def classNames(pred):\n",
        "    if pred[0] == 1:\n",
        "        return \"POSITIVE\"\n",
        "    else:\n",
        "        return \"NEGATIVE\""
      ],
      "metadata": {
        "id": "F6wgHo2zudww"
      },
      "execution_count": null,
      "outputs": []
    },
    {
      "cell_type": "code",
      "source": [
        "X_train"
      ],
      "metadata": {
        "id": "rdTJqx-in2Wn"
      },
      "execution_count": null,
      "outputs": []
    },
    {
      "cell_type": "code",
      "source": [
        "x = [6,\t148,\t72,\t35,\t0,\t33.6,\t0.627,\t50]\n",
        "pred = model.predict([x])\n",
        "# print(pred)\n",
        "print(classNames(pred))"
      ],
      "metadata": {
        "colab": {
          "base_uri": "https://localhost:8080/"
        },
        "id": "xREBLLpftJT2",
        "outputId": "77841e2a-e150-4fea-9c82-b379a2b38bce"
      },
      "execution_count": null,
      "outputs": [
        {
          "output_type": "stream",
          "name": "stdout",
          "text": [
            "POSITIVE\n"
          ]
        }
      ]
    },
    {
      "cell_type": "code",
      "source": [
        "x = [1,\t85,\t66,\t29,\t0,\t26.6,\t0.351,\t31]\n",
        "pred = model.predict([x])\n",
        "# print(pred)\n",
        "print(classNames(pred))"
      ],
      "metadata": {
        "colab": {
          "base_uri": "https://localhost:8080/"
        },
        "id": "WXNJQBtqtiA9",
        "outputId": "7d462af5-b2b3-4485-aa52-269dad1aad5f"
      },
      "execution_count": null,
      "outputs": [
        {
          "output_type": "stream",
          "name": "stdout",
          "text": [
            "NEGATIVE\n"
          ]
        }
      ]
    }
  ]
}